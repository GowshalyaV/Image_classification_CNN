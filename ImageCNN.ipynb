{
  "nbformat": 4,
  "nbformat_minor": 0,
  "metadata": {
    "colab": {
      "provenance": []
    },
    "kernelspec": {
      "name": "python3",
      "display_name": "Python 3"
    },
    "language_info": {
      "name": "python"
    },
    "accelerator": "TPU"
  },
  "cells": [
    {
      "cell_type": "code",
      "execution_count": 1,
      "metadata": {
        "id": "NQjWR4OBdSdw"
      },
      "outputs": [],
      "source": [
        "import tensorflow as tf\n",
        "from tensorflow.keras import datasets, layers, models\n",
        "from tensorflow.keras.models import load_model\n",
        "from tensorflow.keras.preprocessing import image\n",
        "import matplotlib.pyplot as plt\n",
        "import numpy as np\n",
        "\n"
      ]
    },
    {
      "cell_type": "code",
      "source": [
        "(X_train,y_train),(X_test,y_test) = datasets.cifar10.load_data()"
      ],
      "metadata": {
        "id": "8a434-k1eMAp"
      },
      "execution_count": 2,
      "outputs": []
    },
    {
      "cell_type": "code",
      "source": [
        "print(\"X_train shape : \", X_train.shape);print('X_test shape: ',X_test.shape);print('y_train shape: ',y_train.shape);print('y_test shape: ',y_test.shape)"
      ],
      "metadata": {
        "colab": {
          "base_uri": "https://localhost:8080/"
        },
        "id": "7HZbox6te4KQ",
        "outputId": "320a2f4a-28a5-4078-85fc-6e6ac10194aa"
      },
      "execution_count": 3,
      "outputs": [
        {
          "output_type": "stream",
          "name": "stdout",
          "text": [
            "X_train shape :  (50000, 32, 32, 3)\n",
            "X_test shape:  (10000, 32, 32, 3)\n",
            "y_train shape:  (50000, 1)\n",
            "y_test shape:  (10000, 1)\n"
          ]
        }
      ]
    },
    {
      "cell_type": "code",
      "source": [
        "# change array shape as row vector shape\n",
        "y_train = y_train.reshape(-1,)\n",
        "y_test = y_test.reshape(-1,)\n",
        "print('Reshaped y_train: ',y_train[:10])\n",
        "print('Reshaped y_test: ',y_test[:10])\n"
      ],
      "metadata": {
        "colab": {
          "base_uri": "https://localhost:8080/"
        },
        "id": "1QpBTMePfMUT",
        "outputId": "3a5d1f20-6c80-43a4-ae97-5e026c271685"
      },
      "execution_count": 4,
      "outputs": [
        {
          "output_type": "stream",
          "name": "stdout",
          "text": [
            "Reshaped y_train:  [6 9 9 4 1 1 2 7 8 3]\n",
            "Reshaped y_test:  [3 8 8 0 6 6 1 6 3 1]\n"
          ]
        }
      ]
    },
    {
      "cell_type": "code",
      "source": [
        "# target classes\n",
        "classes = ['airplane','automobile','bird','cat','deer','dog','frog','horse','ship','truck']"
      ],
      "metadata": {
        "id": "Gm_r3hAnfVTr"
      },
      "execution_count": 5,
      "outputs": []
    },
    {
      "cell_type": "code",
      "source": [
        "def plot_sample(X,y, index):\n",
        "  plt.figure(figsize=(15,2))\n",
        "  plt.imshow(X[index])\n",
        "  plt.xlabel(classes[y[index]])"
      ],
      "metadata": {
        "id": "o0xYwc0-ZwEB"
      },
      "execution_count": 6,
      "outputs": []
    },
    {
      "cell_type": "code",
      "source": [
        "plot_sample(X_train,y_train, 48)"
      ],
      "metadata": {
        "colab": {
          "base_uri": "https://localhost:8080/",
          "height": 237
        },
        "id": "-FQnakI6aN9O",
        "outputId": "8a49c34b-c139-45ca-d070-7edb146f515f"
      },
      "execution_count": 7,
      "outputs": [
        {
          "output_type": "display_data",
          "data": {
            "text/plain": [
              "<Figure size 1500x200 with 1 Axes>"
            ],
            "image/png": "[encoded data removed]"
          },
          "metadata": {}
        }
      ]
    },
    {
      "cell_type": "code",
      "source": [
        "# max scalling data\n",
        "X_train = X_train / 255\n",
        "X_test = X_test / 255"
      ],
      "metadata": {
        "id": "fsIQrBFkaccb"
      },
      "execution_count": 8,
      "outputs": []
    },
    {
      "cell_type": "code",
      "source": [
        "cnn = models.Sequential([\n",
        "    layers.Conv2D(filters = 32, kernel_size = (3,3), activation = 'relu', input_shape = (32,32,3)),\n",
        "    layers.MaxPooling2D((2,2)),\n",
        "\n",
        "    layers.Conv2D(filters=64, kernel_size = (3,3), activation = 'relu'),\n",
        "    layers.MaxPooling2D((2, 2)),\n",
        "\n",
        "    layers.Flatten(),\n",
        "    layers.Dense(64,activation = 'relu'),\n",
        "    layers.Dense(10, activation = 'softmax')\n",
        "])"
      ],
      "metadata": {
        "id": "69fkDsFbrDGO"
      },
      "execution_count": 9,
      "outputs": []
    },
    {
      "cell_type": "code",
      "source": [
        "cnn.compile(optimizer = 'adam',\n",
        "loss = 'sparse_categorical_crossentropy',\n",
        "metrics = ['accuracy'])"
      ],
      "metadata": {
        "id": "Vlkh-QhSum2_"
      },
      "execution_count": 10,
      "outputs": []
    },
    {
      "cell_type": "code",
      "source": [
        "cnn.fit(X_train, y_train, epochs = 10)"
      ],
      "metadata": {
        "colab": {
          "base_uri": "https://localhost:8080/"
        },
        "id": "iQ9LD300vVvc",
        "outputId": "333171ca-1d98-4524-a1fd-3dbea2fc2b27"
      },
      "execution_count": 11,
      "outputs": [
        {
          "output_type": "stream",
          "name": "stdout",
          "text": [
            "Epoch 1/10\n",
            "1563/1563 [==============================] - 82s 51ms/step - loss: 1.4605 - accuracy: 0.4748\n",
            "Epoch 2/10\n",
            "1563/1563 [==============================] - 77s 49ms/step - loss: 1.1188 - accuracy: 0.6093\n",
            "Epoch 3/10\n",
            "1563/1563 [==============================] - 77s 49ms/step - loss: 0.9977 - accuracy: 0.6527\n",
            "Epoch 4/10\n",
            "1563/1563 [==============================] - 78s 50ms/step - loss: 0.9147 - accuracy: 0.6810\n",
            "Epoch 5/10\n",
            "1563/1563 [==============================] - 75s 48ms/step - loss: 0.8576 - accuracy: 0.7027\n",
            "Epoch 6/10\n",
            "1563/1563 [==============================] - 75s 48ms/step - loss: 0.8017 - accuracy: 0.7211\n",
            "Epoch 7/10\n",
            "1563/1563 [==============================] - 77s 49ms/step - loss: 0.7583 - accuracy: 0.7395\n",
            "Epoch 8/10\n",
            "1563/1563 [==============================] - 77s 49ms/step - loss: 0.7188 - accuracy: 0.7506\n",
            "Epoch 9/10\n",
            "1563/1563 [==============================] - 75s 48ms/step - loss: 0.6843 - accuracy: 0.7628\n",
            "Epoch 10/10\n",
            "1563/1563 [==============================] - 80s 51ms/step - loss: 0.6517 - accuracy: 0.7748\n"
          ]
        },
        {
          "output_type": "execute_result",
          "data": {
            "text/plain": [
              "<keras.callbacks.History at 0x7c62285f7a30>"
            ]
          },
          "metadata": {},
          "execution_count": 11
        }
      ]
    },
    {
      "cell_type": "code",
      "source": [
        "cnn.evaluate(X_test, y_test)"
      ],
      "metadata": {
        "colab": {
          "base_uri": "https://localhost:8080/"
        },
        "id": "bXJ1xRPPwqXW",
        "outputId": "f458e215-95dd-49b5-c55c-fd7df7c6a520"
      },
      "execution_count": 12,
      "outputs": [
        {
          "output_type": "stream",
          "name": "stdout",
          "text": [
            "313/313 [==============================] - 9s 27ms/step - loss: 0.9442 - accuracy: 0.6918\n"
          ]
        },
        {
          "output_type": "execute_result",
          "data": {
            "text/plain": [
              "[0.9442173838615417, 0.6917999982833862]"
            ]
          },
          "metadata": {},
          "execution_count": 12
        }
      ]
    },
    {
      "cell_type": "code",
      "source": [
        "y_pred = cnn.predict(X_test)\n",
        "y_pred[:5]"
      ],
      "metadata": {
        "colab": {
          "base_uri": "https://localhost:8080/"
        },
        "id": "neZnJAKD0UHf",
        "outputId": "c6f03a26-40b5-41e4-db8a-07186d98e89e"
      },
      "execution_count": 13,
      "outputs": [
        {
          "output_type": "stream",
          "name": "stdout",
          "text": [
            "313/313 [==============================] - 4s 13ms/step\n"
          ]
        },
        {
          "output_type": "execute_result",
          "data": {
            "text/plain": [
              "array([[8.6233541e-03, 2.6965037e-04, 8.5377879e-03, 8.8512611e-01,\n",
              "        6.9251815e-05, 4.1496508e-02, 2.5920821e-03, 3.0713444e-04,\n",
              "        5.1662613e-02, 1.3153050e-03],\n",
              "       [1.9043535e-02, 6.4221233e-01, 2.7364966e-05, 1.0278449e-06,\n",
              "        1.1513708e-06, 6.0274354e-09, 1.8295934e-08, 3.0189359e-08,\n",
              "        3.3853510e-01, 1.7948085e-04],\n",
              "       [4.1546151e-02, 1.2576337e-01, 9.3234340e-03, 3.9866399e-03,\n",
              "        3.1931710e-03, 2.2532820e-04, 2.0217620e-04, 1.8283083e-04,\n",
              "        8.0024761e-01, 1.5329297e-02],\n",
              "       [8.1473482e-01, 1.1990797e-02, 2.8428293e-03, 3.5223188e-03,\n",
              "        4.5639608e-02, 1.0766957e-04, 3.0081105e-04, 4.3540374e-05,\n",
              "        1.2054620e-01, 2.7145111e-04],\n",
              "       [1.1886115e-05, 3.0998850e-05, 8.1297293e-02, 2.4354577e-02,\n",
              "        1.7704774e-01, 1.8776620e-03, 7.1531469e-01, 3.0956071e-05,\n",
              "        7.5413741e-06, 2.6730248e-05]], dtype=float32)"
            ]
          },
          "metadata": {},
          "execution_count": 13
        }
      ]
    },
    {
      "cell_type": "code",
      "source": [
        "y_classes = [np.argmax(element) for element in y_pred]\n",
        "y_classes[:5]"
      ],
      "metadata": {
        "colab": {
          "base_uri": "https://localhost:8080/"
        },
        "id": "fSZZ314L2rEt",
        "outputId": "36babf2c-b44a-4642-f862-94a9250edb29"
      },
      "execution_count": 14,
      "outputs": [
        {
          "output_type": "execute_result",
          "data": {
            "text/plain": [
              "[3, 1, 8, 0, 6]"
            ]
          },
          "metadata": {},
          "execution_count": 14
        }
      ]
    },
    {
      "cell_type": "code",
      "source": [
        "y_test[:5]"
      ],
      "metadata": {
        "colab": {
          "base_uri": "https://localhost:8080/"
        },
        "id": "lmR0WIxh3Uoj",
        "outputId": "8ac1f69e-a938-40eb-f3d7-d50ad16573e0"
      },
      "execution_count": 15,
      "outputs": [
        {
          "output_type": "execute_result",
          "data": {
            "text/plain": [
              "array([3, 8, 8, 0, 6], dtype=uint8)"
            ]
          },
          "metadata": {},
          "execution_count": 15
        }
      ]
    },
    {
      "cell_type": "code",
      "source": [
        "cnn.save(\"MyClass.h5\")"
      ],
      "metadata": {
        "id": "X1uDlRHl8bw-"
      },
      "execution_count": 16,
      "outputs": []
    },
    {
      "cell_type": "code",
      "source": [
        "loaded_model = load_model('MyClass.h5')"
      ],
      "metadata": {
        "id": "K61_DKDc9ZDG"
      },
      "execution_count": 17,
      "outputs": []
    },
    {
      "cell_type": "code",
      "source": [
        "def predict_on_image(model, image_path):\n",
        "    img = image.load_img(image_path, target_size=(32, 32, 3))\n",
        "    img_array = image.img_to_array(img)\n",
        "    img_array = np.expand_dims(img_array, axis=0)\n",
        "    img_array = img_array / 255.0\n",
        "\n",
        "    # Make prediction\n",
        "    prediction = model.predict(img_array)\n",
        "    predicted_class_index = np.argmax(prediction)\n",
        "    predicted_class = classes[predicted_class_index]\n",
        "\n",
        "    # Display the result\n",
        "    plt.imshow(img)\n",
        "    plt.xlabel(f'Prediction: {predicted_class}')\n",
        "    plt.show()\n",
        "\n",
        "# Example usage:\n",
        "new_image_path = input(\"Enter file name: \")\n",
        "predict_on_image(loaded_model,new_image_path)"
      ],
      "metadata": {
        "colab": {
          "base_uri": "https://localhost:8080/",
          "height": 484
        },
        "id": "JiCxh5H64KGP",
        "outputId": "912fd1b7-e26c-470b-9a26-f2c00ad2c3ba"
      },
      "execution_count": 20,
      "outputs": [
        {
          "output_type": "stream",
          "name": "stdout",
          "text": [
            "Enter file name: dog.jpeg\n",
            "1/1 [==============================] - 0s 25ms/step\n"
          ]
        },
        {
          "output_type": "display_data",
          "data": {
            "text/plain": [
              "<Figure size 640x480 with 1 Axes>"
            ],
            "image/png": "[encoded data removed]"
          },
          "metadata": {}
        }
      ]
    },
    {
      "cell_type": "code",
      "source": [],
      "metadata": {
        "id": "N65InCua6YEh"
      },
      "execution_count": null,
      "outputs": []
    }
  ]
}